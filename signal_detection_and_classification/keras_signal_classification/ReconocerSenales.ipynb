{
 "cells": [
  {
   "cell_type": "markdown",
   "metadata": {},
   "source": [
    "# Keras Signal Recognition"
   ]
  },
  {
   "cell_type": "markdown",
   "metadata": {},
   "source": [
    "## Import Libraries"
   ]
  },
  {
   "cell_type": "code",
   "execution_count": 21,
   "metadata": {
    "collapsed": true
   },
   "outputs": [],
   "source": [
    "import numpy as np\n",
    "from skimage import io, color, exposure, transform\n",
    "import os\n",
    "import glob\n",
    "import h5py\n",
    "import cv2\n",
    "import tensorflow as tf\n",
    "import threading\n",
    "import time\n",
    "\n",
    "import keras.backend.tensorflow_backend\n",
    "from keras.backend import clear_session\n",
    "from keras.models import load_model\n",
    "from keras.models import model_from_json\n",
    "from keras.preprocessing.image import ImageDataGenerator\n",
    "from keras.models import Sequential, model_from_json\n",
    "from keras.layers.core import Dense, Dropout, Activation, Flatten\n",
    "from keras.layers.convolutional import Conv2D\n",
    "from keras.layers.pooling import MaxPooling2D\n",
    "from keras.optimizers import SGD\n",
    "from keras.utils import np_utils\n",
    "from keras.callbacks import LearningRateScheduler, ModelCheckpoint\n",
    "from keras import backend as K\n",
    "K.set_image_data_format('channels_first')\n",
    "\n",
    "from matplotlib import pyplot as plt\n",
    "%matplotlib inline\n",
    "\n",
    "NUM_CLASSES = 43\n",
    "IMG_SIZE = 48"
   ]
  },
  {
   "cell_type": "markdown",
   "metadata": {},
   "source": [
    "## Configure Keras to allow gpu"
   ]
  },
  {
   "cell_type": "code",
   "execution_count": 22,
   "metadata": {
    "collapsed": true
   },
   "outputs": [],
   "source": [
    "config = tf.ConfigProto()\n",
    "config.gpu_options.allow_growth = True\n",
    "session = tf.Session(config=config)"
   ]
  },
  {
   "cell_type": "markdown",
   "metadata": {},
   "source": [
    "## Auxiliary Functions Dataset "
   ]
  },
  {
   "cell_type": "code",
   "execution_count": 23,
   "metadata": {
    "collapsed": true
   },
   "outputs": [],
   "source": [
    "def procesar_img(img):\n",
    "    ### Normalizar imagenes\n",
    "    hsv = color.rgb2hsv(img)\n",
    "    hsv[:,:,2] = exposure.equalize_hist(hsv[:,:,2])\n",
    "    img = color.hsv2rgb(hsv)\n",
    "    ### Centrar imagen\n",
    "    min_side = min(img.shape[:-1])\n",
    "    centro = img.shape[0]//2, img.shape[1]//2\n",
    "    img = img[centro[0]-min_side//2:centro[0]+min_side//2,\n",
    "              centro[1]-min_side//2:centro[1]+min_side//2,\n",
    "              :]\n",
    "    ### Redimensionar\n",
    "    img = transform.resize(img, (IMG_SIZE, IMG_SIZE))\n",
    "    img = np.rollaxis(img,-1)\n",
    "    return img\n",
    "\n",
    "\n",
    "def obtener_clase(img_path):\n",
    "    return int(img_path.split(os.sep)[-2])"
   ]
  },
  {
   "cell_type": "markdown",
   "metadata": {},
   "source": [
    "## Process Dataset\n",
    "\n",
    "We will use the Dataset of German traffic signals that we can obtain from the following link [Dataset](http://benchmark.ini.rub.de/?section=gtsrb&subsection=dataset)"
   ]
  },
  {
   "cell_type": "code",
   "execution_count": 24,
   "metadata": {},
   "outputs": [
    {
     "name": "stdout",
     "output_type": "stream",
     "text": [
      "Cargado X.h5\n"
     ]
    }
   ],
   "source": [
    "try:\n",
    "    ### Si ya existe cargar archivo\n",
    "    with  h5py.File('X.h5') as hf: \n",
    "        X, Y = hf['imgs'][:], hf['labels'][:]\n",
    "    print(\"Cargado X.h5\")\n",
    "    \n",
    "except (IOError,OSError, KeyError):  \n",
    "    print(\"Procesando Imagenes\")\n",
    "    PATH = 'GTSRB/Final_Training/Images/'\n",
    "    imgs = []\n",
    "    labels = []\n",
    "\n",
    "    total = glob.glob(os.path.join(root_dir, os.path.join('*','*.ppm')))\n",
    "    print(total)\n",
    "    np.random.shuffle(total)\n",
    "    for i in total:\n",
    "        try:\n",
    "            img = procesar_img(io.imread(i))\n",
    "            label = obtener_clase(i)\n",
    "            imgs.append(img)\n",
    "            labels.append(label)\n",
    "\n",
    "            if len(imgs)%1000 == 0: print(\"Procesado {}/{}\".format(len(imgs), len(total)))\n",
    "        except (IOError, OSError):\n",
    "            print('Error', i)\n",
    "            pass\n",
    "\n",
    "    X = np.array(imgs, dtype='float32')\n",
    "    Y = np.eye(NUM_CLASSES, dtype='uint8')[labels]\n",
    "\n",
    "    with h5py.File('X.h5','w') as hf:\n",
    "        hf.create_dataset('imgs', data=X)\n",
    "        hf.create_dataset('labels', data=Y)"
   ]
  },
  {
   "cell_type": "markdown",
   "metadata": {},
   "source": [
    "## Define Neural Network Mode"
   ]
  },
  {
   "cell_type": "code",
   "execution_count": 25,
   "metadata": {
    "collapsed": true
   },
   "outputs": [],
   "source": [
    "def cnn_model():\n",
    "    model = Sequential()\n",
    "\n",
    "    model.add(Conv2D(32, (3, 3), padding='same',\n",
    "                     input_shape=(3, IMG_SIZE, IMG_SIZE),\n",
    "                     activation='relu'))\n",
    "    model.add(Conv2D(32, (3, 3), activation='relu'))\n",
    "    model.add(MaxPooling2D(pool_size=(2, 2)))\n",
    "    model.add(Dropout(0.2))\n",
    "\n",
    "    model.add(Conv2D(64, (3, 3), padding='same',\n",
    "                     activation='relu'))\n",
    "    model.add(Conv2D(64, (3, 3), activation='relu'))\n",
    "    model.add(MaxPooling2D(pool_size=(2, 2)))\n",
    "    model.add(Dropout(0.2))\n",
    "\n",
    "    model.add(Conv2D(128, (3, 3), padding='same',\n",
    "                     activation='relu'))\n",
    "    model.add(Conv2D(128, (3, 3), activation='relu'))\n",
    "    model.add(MaxPooling2D(pool_size=(2, 2)))\n",
    "    model.add(Dropout(0.2))\n",
    "\n",
    "    model.add(Flatten())\n",
    "    model.add(Dense(512, activation='relu'))\n",
    "    model.add(Dropout(0.5))\n",
    "    model.add(Dense(NUM_CLASSES, activation='softmax'))\n",
    "    return model\n",
    "\n",
    "model = cnn_model()\n",
    "lr = 0.01\n",
    "sgd = SGD(lr=lr, decay=1e-6, momentum=0.9, nesterov=True)\n",
    "model.compile(loss='categorical_crossentropy',\n",
    "          optimizer=sgd,\n",
    "          metrics=['accuracy'])\n",
    "\n",
    "\n",
    "def lr_schedule(epoch):\n",
    "    return lr*(0.1**int(epoch/10))"
   ]
  },
  {
   "cell_type": "markdown",
   "metadata": {},
   "source": [
    "## Model Training"
   ]
  },
  {
   "cell_type": "code",
   "execution_count": 26,
   "metadata": {},
   "outputs": [
    {
     "name": "stdout",
     "output_type": "stream",
     "text": [
      "WARNING:tensorflow:From D:\\Anaconda\\lib\\site-packages\\tensorflow\\python\\ops\\math_ops.py:3066: to_int32 (from tensorflow.python.ops.math_ops) is deprecated and will be removed in a future version.\n",
      "Instructions for updating:\n",
      "Use tf.cast instead.\n",
      "Train on 31367 samples, validate on 7842 samples\n",
      "Epoch 1/30\n",
      "31367/31367 [==============================] - 13s 401us/step - loss: 1.7894 - acc: 0.4919 - val_loss: 0.2443 - val_acc: 0.9290\n",
      "Epoch 2/30\n",
      "31367/31367 [==============================] - 12s 372us/step - loss: 0.2695 - acc: 0.9179 - val_loss: 0.0951 - val_acc: 0.9721\n",
      "Epoch 3/30\n",
      "31367/31367 [==============================] - 12s 372us/step - loss: 0.1496 - acc: 0.9535 - val_loss: 0.0631 - val_acc: 0.9806\n",
      "Epoch 4/30\n",
      "31367/31367 [==============================] - 12s 372us/step - loss: 0.0983 - acc: 0.9694 - val_loss: 0.0536 - val_acc: 0.9832\n",
      "Epoch 5/30\n",
      "31367/31367 [==============================] - 12s 374us/step - loss: 0.0785 - acc: 0.9760 - val_loss: 0.0437 - val_acc: 0.9879\n",
      "Epoch 6/30\n",
      "31367/31367 [==============================] - 12s 374us/step - loss: 0.0657 - acc: 0.9793 - val_loss: 0.0359 - val_acc: 0.9898\n",
      "Epoch 7/30\n",
      "31367/31367 [==============================] - 12s 375us/step - loss: 0.0560 - acc: 0.9838 - val_loss: 0.0335 - val_acc: 0.9915\n",
      "Epoch 8/30\n",
      "31367/31367 [==============================] - 12s 375us/step - loss: 0.0597 - acc: 0.9820 - val_loss: 0.0437 - val_acc: 0.9884\n",
      "Epoch 9/30\n",
      "31367/31367 [==============================] - 12s 375us/step - loss: 0.0418 - acc: 0.9874 - val_loss: 0.0365 - val_acc: 0.9901\n",
      "Epoch 10/30\n",
      "31367/31367 [==============================] - 12s 376us/step - loss: 0.0398 - acc: 0.9876 - val_loss: 0.0345 - val_acc: 0.9913\n",
      "Epoch 11/30\n",
      "31367/31367 [==============================] - 12s 376us/step - loss: 0.0211 - acc: 0.9937 - val_loss: 0.0169 - val_acc: 0.9952\n",
      "Epoch 12/30\n",
      "31367/31367 [==============================] - 12s 376us/step - loss: 0.0119 - acc: 0.9966 - val_loss: 0.0168 - val_acc: 0.9953\n",
      "Epoch 13/30\n",
      "31367/31367 [==============================] - 12s 377us/step - loss: 0.0106 - acc: 0.9969 - val_loss: 0.0170 - val_acc: 0.9958\n",
      "Epoch 14/30\n",
      "31367/31367 [==============================] - 12s 377us/step - loss: 0.0084 - acc: 0.9977 - val_loss: 0.0170 - val_acc: 0.9954\n",
      "Epoch 15/30\n",
      "31367/31367 [==============================] - 12s 378us/step - loss: 0.0081 - acc: 0.9972 - val_loss: 0.0168 - val_acc: 0.9957\n",
      "Epoch 16/30\n",
      "31367/31367 [==============================] - 12s 378us/step - loss: 0.0077 - acc: 0.9977 - val_loss: 0.0160 - val_acc: 0.9959\n",
      "Epoch 17/30\n",
      "31367/31367 [==============================] - 12s 378us/step - loss: 0.0085 - acc: 0.9976 - val_loss: 0.0159 - val_acc: 0.9958\n",
      "Epoch 18/30\n",
      "31367/31367 [==============================] - 12s 378us/step - loss: 0.0069 - acc: 0.9975 - val_loss: 0.0157 - val_acc: 0.9959\n",
      "Epoch 19/30\n",
      "31367/31367 [==============================] - 12s 378us/step - loss: 0.0054 - acc: 0.9984 - val_loss: 0.0161 - val_acc: 0.9959\n",
      "Epoch 20/30\n",
      "31367/31367 [==============================] - 12s 378us/step - loss: 0.0065 - acc: 0.9981 - val_loss: 0.0171 - val_acc: 0.9953\n",
      "Epoch 21/30\n",
      "31367/31367 [==============================] - 12s 377us/step - loss: 0.0059 - acc: 0.9983 - val_loss: 0.0167 - val_acc: 0.9955\n",
      "Epoch 22/30\n",
      "31367/31367 [==============================] - 12s 378us/step - loss: 0.0054 - acc: 0.9983 - val_loss: 0.0166 - val_acc: 0.9955\n",
      "Epoch 23/30\n",
      "31367/31367 [==============================] - 12s 378us/step - loss: 0.0048 - acc: 0.9983 - val_loss: 0.0164 - val_acc: 0.9957\n",
      "Epoch 24/30\n",
      "31367/31367 [==============================] - 12s 378us/step - loss: 0.0048 - acc: 0.9984 - val_loss: 0.0161 - val_acc: 0.9957\n",
      "Epoch 25/30\n",
      "31367/31367 [==============================] - 12s 378us/step - loss: 0.0053 - acc: 0.9983 - val_loss: 0.0160 - val_acc: 0.9957\n",
      "Epoch 26/30\n",
      "31367/31367 [==============================] - 12s 378us/step - loss: 0.0049 - acc: 0.9983 - val_loss: 0.0158 - val_acc: 0.9957\n",
      "Epoch 27/30\n",
      "31367/31367 [==============================] - 12s 378us/step - loss: 0.0055 - acc: 0.9981 - val_loss: 0.0158 - val_acc: 0.9957\n",
      "Epoch 28/30\n",
      "31367/31367 [==============================] - 12s 380us/step - loss: 0.0058 - acc: 0.9983 - val_loss: 0.0159 - val_acc: 0.9957\n",
      "Epoch 29/30\n",
      "31367/31367 [==============================] - 12s 378us/step - loss: 0.0051 - acc: 0.9985 - val_loss: 0.0157 - val_acc: 0.9957\n",
      "Epoch 30/30\n",
      "31367/31367 [==============================] - 12s 378us/step - loss: 0.0047 - acc: 0.9985 - val_loss: 0.0158 - val_acc: 0.9957\n"
     ]
    },
    {
     "data": {
      "text/plain": [
       "<keras.callbacks.History at 0x1ac01d1bd30>"
      ]
     },
     "execution_count": 26,
     "metadata": {},
     "output_type": "execute_result"
    }
   ],
   "source": [
    "batch_size = 32\n",
    "nb_epoch = 30\n",
    "\n",
    "model.fit(X, Y,\n",
    "          batch_size=batch_size,\n",
    "          epochs=nb_epoch,\n",
    "          validation_split=0.2,\n",
    "          shuffle=True,\n",
    "          callbacks=[LearningRateScheduler(lr_schedule),\n",
    "                    ModelCheckpoint('model.h5',save_best_only=True)]\n",
    "            )\n"
   ]
  },
  {
   "cell_type": "markdown",
   "metadata": {},
   "source": [
    "## Save Model"
   ]
  },
  {
   "cell_type": "code",
   "execution_count": 27,
   "metadata": {},
   "outputs": [
    {
     "name": "stdout",
     "output_type": "stream",
     "text": [
      "Saved\n"
     ]
    }
   ],
   "source": [
    "model_json = model.to_json()\n",
    "with open('kmodel/kmodels.json','w') as json_file:\n",
    "    json_file.write(model_json)\n",
    "model.save_weights('kmodel/kmodels.h5')\n",
    "print('Saved')"
   ]
  },
  {
   "cell_type": "markdown",
   "metadata": {},
   "source": [
    "## Test Model"
   ]
  },
  {
   "cell_type": "code",
   "execution_count": 28,
   "metadata": {},
   "outputs": [
    {
     "name": "stderr",
     "output_type": "stream",
     "text": [
      "D:\\Anaconda\\lib\\site-packages\\skimage\\transform\\_warps.py:105: UserWarning: The default mode, 'constant', will be changed to 'reflect' in skimage 0.15.\n",
      "  warn(\"The default mode, 'constant', will be changed to 'reflect' in \"\n",
      "D:\\Anaconda\\lib\\site-packages\\skimage\\transform\\_warps.py:110: UserWarning: Anti-aliasing will be enabled by default in skimage 0.15 to avoid aliasing artifacts when down-sampling images.\n",
      "  warn(\"Anti-aliasing will be enabled by default in skimage 0.15 to \"\n"
     ]
    }
   ],
   "source": [
    "import pandas as pd\n",
    "test = pd.read_csv('GT-final_test.csv',sep=';')\n",
    "\n",
    "X_test = []\n",
    "y_test = []\n",
    "i = 0\n",
    "for f, c  in zip(list(test['Filename']), list(test['ClassId'])):\n",
    "    path = os.path.join('GTSRB/Final_Test/Images/',f)\n",
    "    X_test.append(procesar_img(io.imread(path)))\n",
    "    y_test.append(c)\n",
    "    \n",
    "X_test = np.array(X_test)\n",
    "y_test = np.array(y_test)"
   ]
  },
  {
   "cell_type": "code",
   "execution_count": 29,
   "metadata": {},
   "outputs": [
    {
     "name": "stdout",
     "output_type": "stream",
     "text": [
      "Acierto Test = 0.9731591448931116\n"
     ]
    }
   ],
   "source": [
    "y_pred = model.predict_classes(X_test)\n",
    "acc = np.sum(y_pred==y_test)/np.size(y_pred)\n",
    "print(\"Acierto Test = {}\".format(acc))"
   ]
  },
  {
   "cell_type": "markdown",
   "metadata": {},
   "source": [
    "## Test Model RaspPI Images"
   ]
  },
  {
   "cell_type": "code",
   "execution_count": 30,
   "metadata": {
    "collapsed": true
   },
   "outputs": [],
   "source": [
    "def cargar():\n",
    "    json_file = open('C:/Users/Usuario/Desktop/Pruebas/kmodel/kmodels.json', 'r')\n",
    "    loaded_model_json = json_file.read()\n",
    "    json_file.close()\n",
    "    loaded_model = model_from_json(loaded_model_json)\n",
    "    loaded_model.load_weights(\"C:/Users/Usuario/Desktop/Pruebas/kmodel/kmodels.h5\")\n",
    "    return loaded_model\n",
    "\n",
    "loaded_model = cargar()\n",
    "lr = 0.01\n",
    "sgd = SGD(lr=lr, decay=1e-6, momentum=0.9, nesterov=True)\n",
    "loaded_model.compile(loss='categorical_crossentropy',\n",
    "          optimizer=sgd,\n",
    "          metrics=['accuracy'])\n"
   ]
  },
  {
   "cell_type": "markdown",
   "metadata": {},
   "source": [
    "## Show results"
   ]
  },
  {
   "cell_type": "code",
   "execution_count": 31,
   "metadata": {},
   "outputs": [
    {
     "data": {
      "image/png": "[encoded data removed]",
      "text/plain": [
       "<Figure size 432x288 with 1 Axes>"
      ]
     },
     "metadata": {
      "needs_background": "light"
     },
     "output_type": "display_data"
    },
    {
     "name": "stdout",
     "output_type": "stream",
     "text": [
      "[[0. 0. 0. 0. 0. 0. 0. 0. 0. 0. 0. 0. 0. 0. 1. 0. 0. 0. 0. 0. 0. 0. 0. 0.\n",
      "  0. 0. 0. 0. 0. 0. 0. 0. 0. 0. 0. 0. 0. 0. 0. 0. 0. 0. 0.]]\n",
      "14\n"
     ]
    }
   ],
   "source": [
    "def ads(array):\n",
    "    tp = cv2.cvtColor(array,cv2.COLOR_BGR2RGB)\n",
    "    tpr = cv2.resize(tp,(48,48))\n",
    "    tpr = np.rollaxis(tpr,-1)\n",
    "    tpn = tpr[np.newaxis,...]\n",
    "    return tpn\n",
    "\n",
    "image1 = cv2.imread('C:/Users/Usuario/Desktop/Pruebas/prt.jpg')\n",
    "plt.imshow(image1)\n",
    "plt.show()\n",
    "pred = loaded_model.predict(ads(image1))\n",
    "print(pred)\n",
    "print(np.argmax(pred))"
   ]
  }
 ],
 "metadata": {
  "kernelspec": {
   "display_name": "Python 3",
   "language": "python",
   "name": "python3"
  },
  "language_info": {
   "codemirror_mode": {
    "name": "ipython",
    "version": 3
   },
   "file_extension": ".py",
   "mimetype": "text/x-python",
   "name": "python",
   "nbconvert_exporter": "python",
   "pygments_lexer": "ipython3",
   "version": "3.6.3"
  }
 },
 "nbformat": 4,
 "nbformat_minor": 2
}
